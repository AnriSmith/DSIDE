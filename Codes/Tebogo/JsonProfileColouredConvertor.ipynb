{
 "cells": [
  {
   "cell_type": "code",
   "execution_count": 122,
   "metadata": {},
   "outputs": [],
   "source": [
    "import pandas as pd\n",
    "import json\n",
    "import numpy as np\n",
    "df = pd.read_csv('/home/dside/Downloads/PROFILE.csv')\n",
    "# df = df[df['profile']==1]"
   ]
  },
  {
   "cell_type": "code",
   "execution_count": 123,
   "metadata": {},
   "outputs": [],
   "source": [
    "#df[df['mun_code']==\"FS205\"]"
   ]
  },
  {
   "cell_type": "code",
   "execution_count": 124,
   "metadata": {},
   "outputs": [],
   "source": [
    "dfnew = pd.DataFrame()\n",
    "dfu = pd.DataFrame(np.unique(df[\"province\"]),columns=['Uni'])\n",
    "pro_colours = [\"#66DE96\",\"#E6BE8A\",\"#FF7777\",\"#ACACE6\",\"#00BCD4\",\"#5D8E86\",\"#ED854C\",\"#C9BBB5\",\"#E5DC8D\"]"
   ]
  },
  {
   "cell_type": "code",
   "execution_count": 125,
   "metadata": {
    "collapsed": true
   },
   "outputs": [],
   "source": [
    "c  = []\n",
    "for i in range(df.shape[0]):\n",
    "    for j in range(dfu.shape[0]):\n",
    "        if df.loc[i,\"province\"] == dfu.loc[j,'Uni']:\n",
    "            c.append(pro_colours[j])\n",
    "    "
   ]
  },
  {
   "cell_type": "code",
   "execution_count": 126,
   "metadata": {},
   "outputs": [],
   "source": [
    "df['pro_colour'] = c\n",
    "#df1 = df[df['mun_code'] == \"WC053\"]\n",
    "#df.head(4)"
   ]
  },
  {
   "cell_type": "code",
   "execution_count": 127,
   "metadata": {
    "collapsed": true
   },
   "outputs": [],
   "source": [
    "#Comment this line for avarage profiles and remove for specified year\n",
    "#df = df[df['fin_date']==2012]"
   ]
  },
  {
   "cell_type": "code",
   "execution_count": 128,
   "metadata": {},
   "outputs": [],
   "source": [
    "#df.head(5)"
   ]
  },
  {
   "cell_type": "code",
   "execution_count": 129,
   "metadata": {
    "collapsed": true
   },
   "outputs": [],
   "source": [
    "# choose columns to keep, in the desired nested json hierarchical order\n",
    "df = df[[\"profile\", \"province\",\"mun_code\", \"efficient_measure\", \"wellfare_measure\",\"pro_colour\"]]"
   ]
  },
  {
   "cell_type": "code",
   "execution_count": 130,
   "metadata": {},
   "outputs": [],
   "source": [
    "#df.head(2)"
   ]
  },
  {
   "cell_type": "code",
   "execution_count": 131,
   "metadata": {
    "collapsed": true
   },
   "outputs": [],
   "source": [
    "d = dict()\n",
    "d = {\"name\":\"flare\", \"children\": []}"
   ]
  },
  {
   "cell_type": "code",
   "execution_count": 132,
   "metadata": {
    "collapsed": true
   },
   "outputs": [],
   "source": [
    "profile_list = []\n",
    "for line in df.values:\n",
    "    profile = line[0]\n",
    "    profile_list.append(profile)\n",
    "    \n",
    "    province = line[1]\n",
    "    mun_code = line[2]\n",
    "    efficient_measure = line[3]\n",
    "    wellfare_measure = line[4]\n",
    "    pro_colour = line[5]"
   ]
  },
  {
   "cell_type": "code",
   "execution_count": 133,
   "metadata": {
    "collapsed": true
   },
   "outputs": [],
   "source": [
    "profile_list = list(set(profile_list))\n",
    "\n",
    "first_child = []"
   ]
  },
  {
   "cell_type": "code",
   "execution_count": 134,
   "metadata": {
    "collapsed": true
   },
   "outputs": [],
   "source": [
    "for prof in profile_list:\n",
    "    prof_dict = {\"name\":prof, \"children\":[]}\n",
    "    first_child.append(prof_dict)\n",
    "    \n",
    "#print first_child"
   ]
  },
  {
   "cell_type": "code",
   "execution_count": 135,
   "metadata": {
    "collapsed": true
   },
   "outputs": [],
   "source": [
    "second_child_prelim = []\n",
    "for line in df.values:\n",
    "    profile = line[0]\n",
    "    province = line[1]\n",
    "    mun_code = line[2]\n",
    "    efficient_measure = line[3]\n",
    "    wellfare_measure = line[4]\n",
    "    pro_colour = line[5]\n",
    "      \n",
    "    muni_dict = {\"name\":mun_code, \"children\": [{\"name\": \"Financial Measure \" + str(efficient_measure), \"size\": efficient_measure, \"colour\": pro_colour},\n",
    "                                               {\"name\": \"Wellness Measure \" + str(wellfare_measure), \"size\": wellfare_measure, \"colour\": pro_colour}\n",
    "                \n",
    "                                              ]}\n",
    "    \n",
    "    prelim_dict = {\"profile\": profile, \"muni_dict\": muni_dict}\n",
    "    \n",
    "    second_child_prelim.append(prelim_dict)"
   ]
  },
  {
   "cell_type": "code",
   "execution_count": 136,
   "metadata": {
    "collapsed": true
   },
   "outputs": [],
   "source": [
    "for prof_values in second_child_prelim: \n",
    "    profile = prof_values[\"profile\"]\n",
    "    \n",
    "    for profile_dictionary in first_child: \n",
    "        profile_key = profile_dictionary[\"name\"]\n",
    "        if profile == profile_key:\n",
    "            profile_dictionary[\"children\"].append(prof_values[\"muni_dict\"])"
   ]
  },
  {
   "cell_type": "code",
   "execution_count": 137,
   "metadata": {
    "collapsed": true
   },
   "outputs": [],
   "source": [
    "d['children'] = first_child\n",
    "\n",
    "with open('/home/dside/djangotutorials/munimoney/balancesheet/static/json/resultAva.json', 'w') as fp:\n",
    "    json.dump(d, fp)"
   ]
  },
  {
   "cell_type": "code",
   "execution_count": null,
   "metadata": {
    "collapsed": true
   },
   "outputs": [],
   "source": []
  }
 ],
 "metadata": {
  "kernelspec": {
   "display_name": "Python 2",
   "language": "python",
   "name": "python2"
  },
  "language_info": {
   "codemirror_mode": {
    "name": "ipython",
    "version": 2
   },
   "file_extension": ".py",
   "mimetype": "text/x-python",
   "name": "python",
   "nbconvert_exporter": "python",
   "pygments_lexer": "ipython2",
   "version": "2.7.14"
  }
 },
 "nbformat": 4,
 "nbformat_minor": 2
}
